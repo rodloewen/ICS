{
 "cells": [
  {
   "cell_type": "markdown",
   "id": "98445892",
   "metadata": {},
   "source": [
    "# Monte-Carlo photon spectrum generation of inverse Compton scattering from a (weak) laser undulator #\n",
    "Oct 2021\n",
    "R. Loewen"
   ]
  },
  {
   "cell_type": "markdown",
   "id": "484ef49b",
   "metadata": {},
   "source": [
    "## About the notebook ##\n",
    "\n",
    "This is an interactive notebook to generate spectra for different ICS configurations. These configurations primarily address electron storage ring ICS sources.  The bunch frequency of a storage ring is well matched to that of an optical cavity, which builds up laser pulses at repetition rate of tens of MHz.  Since the interaction frequency is high, optical pulse energies are relatively low.\n",
    "\n",
    "Given this context, we allow for a few assumptions. One is that the laser intensity is low enough that it acts as a weak undulator (K<<1). A second is that the interaction point (IP) is at an electron beam focus localized in $\\hat{z}$.  By localized, we mean the focused spot is small compared to the distance from the IP to the output window. (Another common assumption is that there is no dispersion in the electron beam at the IP.)  The laser pulse is also considered to contain many undulator periods. Given the above assumptions, we treat the ICS interaction as a classic ***weak undulator***.\n",
    "\n",
    "This notebook is **not** a *Luminosity* calculation (ph/s). Instead, we take a total number of scattered photons and calculate what happens to them.  Yet this calculation *does* give the **relative intensity** both spatially and spectrally. If we know the *Luminosity*, we will then know the spectral ph/s density distribution in angle space."
   ]
  },
  {
   "cell_type": "markdown",
   "id": "6b476b6a",
   "metadata": {},
   "source": [
    "#convert this cell to code when running on Colab\n",
    "from google.colab import drive\n",
    "drive.mount('/content/drive/')"
   ]
  },
  {
   "cell_type": "markdown",
   "id": "bfc7baba",
   "metadata": {},
   "source": [
    "## Organize functions by using @dataclass  ##\n",
    "The following figure conceptually illustrates the different classes in organizing the code. Below the figure is a list of dependencies.  We cover more details of each of the classes as we go through them.  Each `dataclass` section contains all its attributes and methods.  We follow that with another section illustrating some examples. Feel free to edit or play with them.\n",
    "![class_diagram.png](../pics/class_diagram2.png)\n",
    "- **ebeam**( ) is independent \n",
    "  - **laser**(ebeam) also generates luminous spot size\n",
    "     - **histogram** (ebeam, laser) to control how scattering data is collected\n",
    "        - **aperture** (histogram) to calculate geometrical effects, transmission\n",
    "           - **photons** (ebeam, laser, aperture) for ICS calculations\n",
    "- ‘main’ function of code is to call/convert **photons** -> **histogram \\[data\\]**\n",
    "- **display**(data, histogram, aperture)\n",
    "- **configuration**(ebeam, laser, histogram, aperture) to save/recall specific configurations"
   ]
  },
  {
   "cell_type": "markdown",
   "id": "16739e11",
   "metadata": {},
   "source": [
    "## Let's get started with import ##\n",
    "First import packages that are used in project."
   ]
  },
  {
   "cell_type": "code",
   "execution_count": 59,
   "id": "f23b89c4",
   "metadata": {
    "scrolled": false
   },
   "outputs": [
    {
     "name": "stdout",
     "output_type": "stream",
     "text": [
      "The cython extension is already loaded. To reload it, use:\n",
      "  %reload_ext cython\n"
     ]
    }
   ],
   "source": [
    "from dataclasses import dataclass\n",
    "import math as m\n",
    "import numpy as np\n",
    "from scipy.interpolate import interp1d\n",
    "from scipy.signal import find_peaks, peak_widths\n",
    "import matplotlib.pyplot as plt\n",
    "from matplotlib.colors import ListedColormap, LinearSegmentedColormap\n",
    "import time\n",
    "%load_ext cython\n",
    "# for saving/recalling configs\n",
    "import pickle \n",
    "import tkinter as tk\n",
    "from tkinter import filedialog"
   ]
  },
  {
   "cell_type": "markdown",
   "id": "05e74a6a",
   "metadata": {},
   "source": [
    "## class ebeam: ##\n",
    "We define an **electron beam** at the IP to derive ebeam distributions. We will need: $E,\\sigma_E$, $\\sigma_x,\\sigma_{x'}$, $\\sigma_{y},\\sigma_{y'}$. The longitudinal attributes are mean energy (`.meanMeV`) and relative energy spread (`.sigmaErel`). Convenient transverse attributes are emittances, by default *normalized* (`.emittanceX`, `.emittanceY`) and beta functions at the IP (`.betastarX`,`.betastarY`).  (Coupling and correlations are not addressed.) The class also contains methods to generate random Gaussian distributions for batches of electrons. Those distributions are inputs for later scattering calculations. \n"
   ]
  },
  {
   "cell_type": "code",
   "execution_count": 60,
   "id": "6d1a0676",
   "metadata": {
    "scrolled": false
   },
   "outputs": [],
   "source": [
    "@dataclass\n",
    "class ebeam:\n",
    "    meanMeV:    float  # average energy (MeV)\n",
    "    sigmaErel:  float  # relative energy spread dE/E\n",
    "    emittanceX: float  # usually normalized emittance (m)\n",
    "    emittanceY: float  #\n",
    "    betastarX:  float  # beta* at IP (m)\n",
    "    betastarY:  float  #\n",
    "    useNormEmit: bool = True  # just in case, there are times we specify the geometric emittance instead\n",
    "    def gamma(self):\n",
    "        return self.meanMeV/0.510998950\n",
    "    def emitX(self):\n",
    "        return self.emittanceX/self.gamma() if self.useNormEmit else self.emittanceX\n",
    "    def emitY(self):\n",
    "        return self.emittanceY/self.gamma() if self.useNormEmit else self.emittanceY\n",
    "    def sigmaX(self):\n",
    "        return m.sqrt(self.emitX()*self.betastarX)\n",
    "    def sigmaY(self):\n",
    "        return m.sqrt(self.emitY()*self.betastarY)\n",
    "    def sigmaXp(self):\n",
    "        return m.sqrt(self.emitX()/self.betastarX)\n",
    "    def sigmaYp(self):\n",
    "        return m.sqrt(self.emitY()/self.betastarY)\n",
    "    \"\"\" TBD: add functions to read equilibrium ICS energy distribution\n",
    "          from storage ring turn-by-turn simulation (another code)\"\"\"\n",
    "    # use beam parameters above to calculate sample electron(s) for ICS photon(s)\n",
    "    def eMeV(self,n=1):\n",
    "        return np.random.default_rng().normal(self.meanMeV, self.meanMeV*self.sigmaErel, n)\n",
    "    def esigmaX(self,n=1):\n",
    "        return np.random.default_rng().normal(0, self.sigmaX(), n)\n",
    "    def esigmaY(self,n=1):\n",
    "        return np.random.default_rng().normal(0, self.sigmaY(), n)\n",
    "    def esigmaXp(self, Xp_offset, n=1):\n",
    "        return np.random.default_rng().normal(Xp_offset, self.sigmaXp(), n)  \n",
    "    def esigmaYp(self, Yp_offset, n=1):\n",
    "        return np.random.default_rng().normal(Yp_offset, self.sigmaYp(), n)"
   ]
  },
  {
   "cell_type": "code",
   "execution_count": 61,
   "id": "9ecf9794",
   "metadata": {
    "scrolled": false
   },
   "outputs": [
    {
     "name": "stdout",
     "output_type": "stream",
     "text": [
      "ebeam(meanMeV=237, sigmaErel=0.000781, emittanceX=5.02e-06, emittanceY=5.02e-06, betastarX=10.0, betastarY=10.0, useNormEmit=True)\n",
      "1.0823690839662446e-08\n",
      "here are 5 sample values for electron energy [236.91490224 237.0294363  237.01259602 236.7023311  236.68867142]\n"
     ]
    }
   ],
   "source": [
    "# example beam input\n",
    "#examplebeam = ebeam(58.0,3.2e-3,7.5e-6,7.5e-6, 0.200, 0.200)\n",
    "examplebeam = ebeam(237,7.81e-4,5.02e-6,5.02e-6, 10.0, 10.0)\n",
    "print(examplebeam)\n",
    "print(examplebeam.emitX())\n",
    "print('here are 5 sample values for electron energy', examplebeam.eMeV(5))"
   ]
  },
  {
   "cell_type": "markdown",
   "id": "a7591d7d",
   "metadata": {},
   "source": [
    "## class laser: ##\n",
    "Define **optical parameters** of interaction laser, including calculation of luminous (x-ray) spot size. We assume here that the bandwidth of the optical pulse is much smaller than that of the electron beam energy spread. So we ignore it. We characterize the photon energy with only the laser wavelength (`.nm`).  (We neglect the finite oscillation bandwidth.) In other words, an optical pulse acts like an infinite period undulator.  Thus geometrical properties of the scattered optical photon do not contribute much to the spectral or spatial distribution of ICS.  Only through the luminous spot size, if large enough compared to the IP to exit-aperture distance, will it affect the ICS distribution.  The luminous spot size acts as an added angular divergence (smearing of the point source) due to geometry.  We can add this divergence independent of the ebeam divergence.  To calculate the luminous spot size, we need to specify the laser depth of focus (`.zRayleighX`,`.zRayleighY`).  We include $\\hat{z}$ position offsets (`.zOffsetX`,`.zOffsetY`) if the focus is not coincident with the electron beam or is astigmatic.  Not entering offsets assumes they are 0."
   ]
  },
  {
   "cell_type": "code",
   "execution_count": 62,
   "id": "3386b735",
   "metadata": {
    "scrolled": false
   },
   "outputs": [],
   "source": [
    "@dataclass\n",
    "class laser:\n",
    "    nm: float                 # laser wavelength (nm)\n",
    "    ps: float                 # polarization state, h=1, v=-1 or 0 for unpolarized\n",
    "    zRayleighX: float         # Rayleigh Range (m) in x\n",
    "    zRayleighY: float         # Rayleigh Range (m) in y\n",
    "    zOffsetX: float = 0       # position offset in z (m) in x\n",
    "    zOffsetY: float = 0       # position offset in z (m) in x\n",
    "    def eV(self):\n",
    "        return 1239.8/self.nm\n",
    "    def w0X(self):\n",
    "        return m.sqrt(self.nm*1e-9*self.zRayleighX/m.pi)\n",
    "    def w0Y(self):\n",
    "        return m.sqrt(self.nm*1e-9*self.zRayleighY/m.pi)\n",
    "    def wOffX(self):\n",
    "        return m.sqrt(1 + (self.zOffsetX/self.zRayleighX)**2)\n",
    "    def wOffY(self):\n",
    "        return m.sqrt(1 + (self.zOffsetY/self.zRayleighY)**2)\n",
    "    def sigmaX(self):\n",
    "        return self.w0X()*self.wOffX()/2\n",
    "    def sigmaY(self):\n",
    "        return self.w0Y()*self.wOffY()/2\n",
    "    # we can also characterize the luminous spot by folding in the electron beam\n",
    "    def luminous_sigmaX(self,ebeam):\n",
    "        return m.sqrt((ebeam.sigmaX()**2)*(self.sigmaX()**2)/(ebeam.sigmaX()**2 + self.sigmaX()**2))\n",
    "    def luminous_sigmaY(self,ebeam):\n",
    "        return m.sqrt((ebeam.sigmaY()**2*self.sigmaY()**2)/(ebeam.sigmaY()**2 + self.sigmaY()**2))\n",
    "    # use beam parameters above to generate samples for spot size distributions to be applied to ICS photon(s)\n",
    "    def lumsigmaX(self,ebeam, n, offset=0):\n",
    "        return np.random.default_rng().normal(offset, self.luminous_sigmaX(ebeam), n)\n",
    "    def lumsigmaY(self,ebeam, n, offset=0):\n",
    "        return np.random.default_rng().normal(offset, self.luminous_sigmaY(ebeam), n)"
   ]
  },
  {
   "cell_type": "code",
   "execution_count": 63,
   "id": "0d840430",
   "metadata": {
    "scrolled": false
   },
   "outputs": [
    {
     "name": "stdout",
     "output_type": "stream",
     "text": [
      "laser(nm=1064, ps=1, zRayleighX=0.06, zRayleighY=0.06, zOffsetX=0, zOffsetY=0)\n",
      "laser has photon energy of 1.1652 eV\n",
      "laser spot size sigma_x = 7.13e-05\n",
      "ebeam spot size sigma_x = 3.29e-04\n",
      "together makes a luminous spot size sigma x = 6.97e-05\n",
      "here are 4 sample values for beam spot in y [ 0.00010706 -0.00017696 -0.00016611  0.00015433]\n"
     ]
    }
   ],
   "source": [
    "# example laser input\n",
    "exampleNdYAG = laser(1064,1,0.06,0.06)\n",
    "print(exampleNdYAG)\n",
    "print(f'laser has photon energy of {exampleNdYAG.eV():0.4f} eV')\n",
    "print(f'laser spot size sigma_x = {exampleNdYAG.sigmaX():0.2e}')\n",
    "print(f'ebeam spot size sigma_x = {examplebeam.sigmaX():0.2e}')\n",
    "print(f'together makes a luminous spot size sigma x = {exampleNdYAG.luminous_sigmaX(examplebeam):0.2e}')\n",
    "print('here are 4 sample values for beam spot in y',exampleNdYAG.lumsigmaY(examplebeam,4))"
   ]
  },
  {
   "cell_type": "markdown",
   "id": "63eb4fff",
   "metadata": {},
   "source": [
    "## class histogram: ##\n",
    "Define **4D histogram** to assign bins to scattered angles and energies (x',y',E, p) where p is polarization (unpolarized=0, and linear sigma=1, pi=-1). This is the 'state space' we will use to calculate and then bin photons.  We treat x' and y' as having the same bin size and range for convenience.  We include methods to estimate the peak energy of scattered photons and apply a bandwidth of interest (from the peak energy down).  We can also take advantage of the photon distribution (described in the following section) to preset the range of sampled energies.  If we collect a range of energies, we can restrict the Monte Carlo random variable to this range.  This saves us from throwing away out-of-band photons.  We still track out-of-bound photons by including extra bins in the `histogram.createArray()`.  The data includes out-of-bound low and high indexes for x' y' and E (but not p) so we can account for all photons created."
   ]
  },
  {
   "cell_type": "markdown",
   "id": "8240401b",
   "metadata": {},
   "source": [
    "### Monte-Carlo ICS part 1: mapping energy to a random sampling function ###\n",
    "The histogram methods include calculations about which energies to track.  For this, we need the undulator photon distribution.  This is a good spot to illustrate the relevant formulas.  I am using Hofmann([^1]), in particular, his analysis of weak undulators.  The most useful formula to start with is the **power spectral density**, which is the power integrated over the solid angle.  We use Hofmann's formula for ***S<sub>u</sub>*** that combines both sigma and pi polarizations to include all photons. From ***S<sub>u</sub>*** we divide by photon energy to get the classic **photon distribution** \"U\" shaped ***P<sub>u</sub>***.  Next we integrate to get a normalized monotonic function ***CP<sub>u</sub>***.  This is the function we invert and sample (with random *P*) to get *x*, the normalized photon energy.\n",
    "\n",
    "For individual electrons, that electron's energy determines the peak photon energy.  For the histogram, we calculate top energy from the estimated peak of the electron beam energy distribution. The `minP()` method looks at the lowest energy bin in the histogram and uses that to set the bandwidth, or lowest energy to sample with *P(x)*.  For example, if the lowest energy we want is 80% of the estimated peak, then the corresponding *minP* = 0.752 (green arrows). Using the inverse of ***CP<sub>u</sub>***, a random sampling above *minP* will fill in the appropriate upper part of curve ***P<sub>u</sub>***. (Later, in the `photons` dataclass,  we will talk about the inverse of ***CP<sub>u</sub>*** .)\n",
    "![ICS_photon_distribution.png](../pics/ICS_photon_distribution.png)\n",
    "\n",
    "[^1]: files/Hofmann_synchrotron_radiation.pdf"
   ]
  },
  {
   "cell_type": "code",
   "execution_count": 64,
   "id": "fad60647",
   "metadata": {
    "scrolled": false
   },
   "outputs": [],
   "source": [
    "@dataclass\n",
    "class histogram:\n",
    "    theta: float     # largest +/- angle for x' and y' (rad)\n",
    "    dtheta: float    # size of each angle bin (rad)\n",
    "    minE: float      # lowest energy bin (eV)\n",
    "    maxE: float      # highest energy bin (eV)\n",
    "    dE: float        # size of each energy bin (eV)\n",
    "    def estimateMaxE(self, ebeam, laser, precision = 0):   # add +6dE/E and round from there\n",
    "        gamma2 = ((1+6*ebeam.sigmaErel)*ebeam.gamma())**2  # use this as upper bound for gamma^2\n",
    "        return round(4*gamma2*laser.eV()/(1 + 4*gamma2*laser.eV()/(1e6*ebeam.meanMeV)), precision)\n",
    "    def autoMaxE(self, ebeam, laser, precision = -3):\n",
    "        newMaxE = self.estimateMaxE(ebeam, laser, precision)\n",
    "        print(f'  ...new max {newMaxE:0.0f} replaces {self.maxE:0.0f} as histogram.maxE')\n",
    "        self.maxE = newMaxE\n",
    "        return\n",
    "    def setBW(self, bandwidth = 1, precision = -3):    # call after checking or setting it with autoMaxE()\n",
    "        if bandwidth > 1.0: bandwidth = 1.0, print('bandwidth must be <1')\n",
    "        else:\n",
    "            newMinE = round((1-bandwidth)*self.maxE, precision) \n",
    "            print(f'  ...new min {newMinE:0.0f} replaces {self.minE:0.0f} as histogram.minE')\n",
    "            self.minE = newMinE\n",
    "        return\n",
    "    def E_bins(self):\n",
    "        return int((self.maxE - self.minE)/self.dE) + 2  # +2 for out-of-bounds collection +/-\n",
    "    def array_E_bins(self):\n",
    "        return np.linspace(self.minE, self.maxE, self.E_bins() - 2)  # don't include out-of-bounds for search\n",
    "    def theta_bins(self):\n",
    "        return int(2*self.theta/self.dtheta) + 2 # +2 for out-of-bounds collection +/-\n",
    "    def array_theta_bins(self):\n",
    "        return np.linspace(-1*self.theta, self.theta, self.theta_bins() - 2) # don't include out-of-bounds\n",
    "    def minP(self,ebeam,laser):   # P[0..1] but we don't need to track low energy photons -> P[minP..1] \n",
    "        fractionE = m.floor(100*self.minE/self.estimateMaxE(ebeam,laser,-3))/100  # round down to nearest %\n",
    "        minP = 3/2*fractionE - 3/2*fractionE**2 + fractionE**3  # this is lower bound of what we need to sample\n",
    "        return minP, 1-fractionE  # we use minP later, but we can also use the bandwidth to scale output flux correctly\n",
    "    def createArray(self):        # for now, put in 3 bins for polarization (unpolarized and two for linear)\n",
    "        return np.zeros((self.theta_bins(), self.theta_bins(), self.E_bins(), 3), dtype=np.int64)  # 64bit for cython "
   ]
  },
  {
   "cell_type": "code",
   "execution_count": 65,
   "id": "e7259f66",
   "metadata": {
    "scrolled": false
   },
   "outputs": [
    {
     "name": "stdout",
     "output_type": "stream",
     "text": [
      "initial histogram(theta=0.001, dtheta=5e-05, minE=980000.0, maxE=1020000.0, dE=400)\n",
      "If we want, we can calculate and set the min and max energies\n",
      "1007710.0\n",
      "  ...new max 1008000 replaces 1020000 as histogram.maxE\n",
      "  ...new min 978000 replaces 980000 as histogram.minE\n",
      "modified to histogram(theta=0.001, dtheta=5e-05, minE=978000.0, maxE=1008000.0, dE=400)\n",
      "(42, 42, 77, 3) are the available bins to put a scattered photon in (x', y', E, p) space\n",
      "minimum P [0..1] is 0.9563230000000001 for a sampled BW of 3.0%\n"
     ]
    }
   ],
   "source": [
    "# example histogram input\n",
    "#examplehist = histogram(4e-3, 80e-6, 10e3, 40e3, 200)\n",
    "examplehist = histogram(1e-3, 50e-6, 980e3, 1020e3, 400)\n",
    "print(f'initial {examplehist}')\n",
    "print('If we want, we can calculate and set the min and max energies')\n",
    "print(examplehist.estimateMaxE(examplebeam,exampleNdYAG,-1))\n",
    "examplehist.autoMaxE(examplebeam,exampleNdYAG,-3)   #to set the high energy cutoff (call first)\n",
    "examplehist.setBW(0.03)                              #to set the low energy cutoff\n",
    "print(f'modified to {examplehist}')\n",
    "#print(examplehist.array_theta_bins())\n",
    "# use histogram settings to define array\n",
    "exampledata = examplehist.createArray()\n",
    "print(f\"{exampledata.shape} are the available bins to put a scattered photon in (x', y', E, p) space\")\n",
    "minP = examplehist.minP(examplebeam,exampleNdYAG)[0]\n",
    "BW = examplehist.minP(examplebeam,exampleNdYAG)[1]\n",
    "print(f'minimum P [0..1] is {minP} for a sampled BW of {BW*100:0.1f}%')"
   ]
  },
  {
   "cell_type": "markdown",
   "id": "e44ae2a3",
   "metadata": {},
   "source": [
    "## class aperture: ##\n",
    "Create an **aperture** to define a mask geometry for angular acceptance.  The aperture can also define output window characteristics, like attenuation. This also makes a good detector plane where we can specify source to output distance.  This distance converts luminous source size to angles (see section after aperture examples below).  Since the output aperture may be part an optical mirror (as in the Lyncean CLS), we include features of the substrate as well as the 'thinned' output area. The 'thick' substrate may affect the geometrical acceptance, like a tilt angle of an otherwise circular aperture. For the thin part of the output window, we use data from a lookup table available from NIST* to calculate energy dependent transmission. Silicon is the default material.\n",
    "\n",
    "*<https://physics.nist.gov/PhysRefData/FFast/html/form.html> and pick 2.00-433keV, for example, and save as text file."
   ]
  },
  {
   "cell_type": "code",
   "execution_count": 85,
   "id": "024996b5",
   "metadata": {
    "scrolled": false
   },
   "outputs": [],
   "source": [
    "@dataclass\n",
    "class aperture:\n",
    "    toIP: float           # distance from aperture to IP (m)\n",
    "    dia: float            # diameter of circular hole (m)\n",
    "    thick: float = 0      # thickness of aperture, such as substrate of a locally thinned optic (m)\n",
    "    angle: float = 0      # tilt angle, as from an optic substrate in a cavity (deg)\n",
    "    thin: float = 0       # thickness of apertured window itself (m)\n",
    "    material: str = 'Si'  # silicon is nominal material - can add others as needed\n",
    "    #below are some aperture methods that require a given histogram ('detector' plane) \n",
    "    def transmission(self, hist):\n",
    "        if self.thin <= 0:\n",
    "            return np.ones(hist.E_bins())\n",
    "        elif self.material == 'Si':\n",
    "            SiNIST = np.loadtxt(\"NIST_Si_mu_table_2-433keV.txt\", delimiter=\"\\t\")\n",
    "            mu = np.interp(hist.array_E_bins(), SiNIST[:,0]*1e3, SiNIST[:,1])\n",
    "            transmission = np.exp(-mu*self.thin*100)\n",
    "            return np.roll(np.append(transmission,[0,0]),1) # add 0's to out-of-bounds energies\n",
    "        else:\n",
    "            print(f'{self.material} not a recognized material, no attenuation loaded')\n",
    "            return np.ones(hist.E_bins())\n",
    "    def createMask(self, hist):    # create a 'hard' aperture by creating a 2D array of 0's and 1's (histogram sized)\n",
    "        m_offset =  m.sin(m.radians(self.angle))*self.thick  # cylinder tilt offset in m\n",
    "        offset = m.atan(m_offset/2/self.toIP)/hist.dtheta    # m offset converted to histogram bins ('angle' space)\n",
    "        midpoint = hist.theta/hist.dtheta + 1                # default is calculate everything in bins (+1 for oob)\n",
    "        well = m.atan(self.dia/2/self.toIP)/hist.dtheta      # nominal radius of well\n",
    "        left = midpoint - offset                             # each tilted edge appears transversely shifted\n",
    "        right = midpoint + offset\n",
    "        endpoint = int(2*midpoint)\n",
    "        mask_left = np.empty([endpoint,endpoint])            # populate a mask to fill in with 0's or 1's\n",
    "        mask_right = np.copy(mask_left)                      # do each side independently\n",
    "        for x in range(0, endpoint):\n",
    "            for y in range(0, endpoint):\n",
    "                mask_left[x,y] = 1 if (((x-left)**2+(y-midpoint)**2) <= well**2) else 0\n",
    "                mask_right[x,y] = 1 if (((x-right)**2+(y-midpoint)**2) <= well**2) else 0\n",
    "        mask = mask_left * mask_right                        # combine as 'AND'ed set for aperture\n",
    "        return mask\n",
    "    def properties(self, hist):   # a place to assemble some aperture calculations that may be interesting to know\n",
    "        mymask = self.createMask(hist)\n",
    "        # max subtended angles in each plane\n",
    "        width_rad = hist.dtheta*np.sum(mymask[:,int(mymask.shape[0]/2)])  # count 1's across the middle\n",
    "        height_rad = hist.dtheta*np.sum(mymask[int(mymask.shape[1]/2),:])\n",
    "        # area covered by aperture\n",
    "        rel_area = np.sum(mymask)/((mymask.shape[0]-2)*(mymask.shape[1]-2))  # how much of histogram covered by aperture\n",
    "        histogram_area_mm = (m.sin(hist.theta)*self.toIP*2*1e3)**2\n",
    "        area_mm = rel_area*histogram_area_mm\n",
    "        return width_rad, height_rad, area_mm"
   ]
  },
  {
   "cell_type": "code",
   "execution_count": 86,
   "id": "37b03dd1",
   "metadata": {
    "scrolled": false
   },
   "outputs": [
    {
     "name": "stdout",
     "output_type": "stream",
     "text": [
      "aperture(toIP=1.25, dia=0.01, thick=0.0127, angle=6.0, thin=0.001, material='Si')\n",
      "transmission calculated for 77 energies\n",
      "(42, 42)\n",
      "sigma of x' distribution due to luminous spot = 5.572773504818053e-05\n"
     ]
    }
   ],
   "source": [
    "# example aperture input\n",
    "examplewindow = aperture(1.25,10e-3,12.7e-3,6.0,1e-3,'Si')\n",
    "print(examplewindow)\n",
    "print('transmission calculated for', examplewindow.transmission(examplehist).size, 'energies')\n",
    "ans = examplewindow.createMask(examplehist)\n",
    "print(ans.shape)\n",
    "#print(examplewindow.transmission(examplehist))\n",
    "print(f\"sigma of x' distribution due to luminous spot = {exampleNdYAG.luminous_sigmaX(examplebeam)/examplewindow.toIP}\")"
   ]
  },
  {
   "cell_type": "markdown",
   "id": "240a4e76",
   "metadata": {},
   "source": [
    "### Note on luminous spot size ###\n",
    "\n",
    "Since we are tracking *angle space* (x', y') of photons, we can pick any length past the aperture as the detector plane.  The most natural plane to take a look is right where we put an output window, or aperture. This is usually far from the source compared to the source size.  In this case, simple geometry determines the angular effect of the luminous spot size. We get **d** in the figure below from the attribute `aperture.toIP` distance.\n",
    "![source_size_angles.png](../pics/source_size_angles.png)"
   ]
  },
  {
   "cell_type": "markdown",
   "id": "9d80644d",
   "metadata": {},
   "source": [
    "## class photons: ##\n",
    "This is where we calculate ICS and generate the states (as attributes) of a collection of **photons**.  The main method called is `scatter()` which assigns values to the four photon attributes. First it generates a set of Monte-Carlo 'x' (normalized photon energy) values `Px`. For a particular `Px` we know the energy of the photon `.eV`.  The next calculation determines the polarization `.ps` (if laser photons are linearly polarized).  The polarization state affects the angular distribution in x', y' space. Knowing the polarization and photon energy, we determine the angles x', y' or `.xp`, `.yp`.  \n",
    "\n",
    "The trick here is to use `Numpy` as much as possible, so we vectorize everything with arrays. In other words, we calculate a batch of photons at a time, for instance 1M, and then add them to a data histogram.  We may add batches of photons to the histogram data by calling the same `scatter()` method.\n",
    "\n",
    "The following description of ICS calculations consider a single electron at a time.  We can add the effects of the electron beam distribution as we go along, or at the end.  Similarly for the luminous spot effect.  If we add beam correlations from position  ($\\sigma_x$) to angle space ($\\sigma_{x'}$), we would have include it as we go.  For the case where the beam is not correlated, we can add in the effects at the very end."
   ]
  },
  {
   "cell_type": "markdown",
   "id": "88590c79",
   "metadata": {},
   "source": [
    "### Monte-Carlo ICS part 2: scattering formulas ###\n",
    "We start with generating the ***P<sub>u</sub>*** photon distribution as samples `Px` from a uniform random number distribution [0..1]. We can limit the range by setting a floor for P(x), called from `histogram.minP()`. The integrated formula that we need is the inverse of ***CP<sub>u</sub>*** shown earlier in the `histogram` section.  This is simple enough to be algebraically inverted.  (And each axis is already normalized to unity.)\n",
    "From Maple, we get the inverse of ***CP<sub>u</sub>***, which is coded in `.generate_Px()`:\n",
    "![inverted_MC_formula.png](..\\pics\\inverted_MC_formula.png)\n",
    "\n",
    "The *undulator formula* gives us the backscattered photon energy. It includes the recoil term in the denominator, which is relevant for gamma-ray energies.  The maximum energy is straight ahead, $\\theta=0$.  The normalized photon energy $E_{ph}/E_{max}$ is the `Px` we generated with our Monte-Carlo distribution.\n",
    "![undulator_eq_insert.png](..\\pics\\undulator_eq_insert.png)\n",
    "\n",
    "Once we specify the normalized energy of a scattered photon, the $\\theta$ component is correlated exactly (with a factor of $\\gamma$).  This angle is relative to where the electron is pointing ($\\theta\\equiv0$).  The coordinate system we use is:\n",
    "![geometry.png](..\\pics\\geometry.png)\n",
    "\n",
    "The last piece of information we need is the angle $\\phi$ distribution. The angle $\\phi$ depends on the plane of polarization, and the polarization mode ($\\sigma$ or $\\pi$).  If unpolarized, I set $\\phi$ to be randomly distributed over $2\\pi$. If we have a linearly polarized laser in $\\hat{x}$, there will mostly be $\\sigma$-mode polarization at low angles, or high energies. There is a mix of $\\pi$-mode at larger angles, as seen in the following figure.  \n",
    "![photon_distribution.png](..\\pics\\photon_distribution.png)\n",
    "\n",
    "Taking advantage of Hofmann's analysis, the problem can be split up in to two parts. First, we determine what polarization the photon has. For this, we go back to the **power spectral density** formulas, but this time we use the one for ***S<sub>u$\\sigma$</sub>*** as well as ***S<sub>u</sub>***.\n",
    "![power_spectral_density.png](..\\pics\\corrected_spectral_power_density.png)\n",
    "\n",
    "For a given `Px` (in Hofmann's notation $\\frac{\\omega}{\\omega_{10}}$) we find the ratio of ***S<sub>u$\\sigma$</sub>*** compared to the sum ***S<sub>u</sub>***.  A random number determines whether the photon is $\\sigma$- or $\\pi$-mode.  Once we know the polarization state, we use the **spectral angular power**, which contains the explicit $\\phi$ dependence, to make a distribution that matches these functions\n",
    "![spectral_angular_power.png](..\\pics\\spectral_angular_power_for_phi.png)\n",
    "\n",
    "The dataclass contains two different methods that should allow us to find $\\phi$.  One is the `explicitPhi()` calculation that first generates a function for a particular `Px`.  Integrating this function creates a map of $\\phi$ to a random number.  (This method is not presently working. To make it work for inverting 2D inputs, it requires building another function to handle broadcasting correctly.) The second method is an `interpolatePhi()` routine which interpolates both `Px` and $\\phi$ from a 2D lookup table.  We generate the table once, then use it to find $\\phi$ given `Px` and a random number.  This second method is  working (although likely slower than it should be.)"
   ]
  },
  {
   "cell_type": "code",
   "execution_count": 87,
   "id": "57b29958",
   "metadata": {
    "scrolled": false
   },
   "outputs": [],
   "source": [
    "%%cython\n",
    "# this turns out no faster than vectorized python function\n",
    "cimport numpy as np\n",
    "import numpy as np     # need to import both\n",
    "def cyInverseInterp(np.ndarray[np.float64_t, ndim=1] x, np.ndarray[np.float64_t, ndim=2] X, np.ndarray[np.float64_t, ndim=1] Y):\n",
    "    dX = np.diff(X, axis=0)\n",
    "    dY = np.diff(Y, axis=0)\n",
    "    w = np.clip((x - X[:-1, :])/dX[:, :], 0, 1)\n",
    "    return np.sum(w*dY[:,None], axis=0)"
   ]
  },
  {
   "cell_type": "code",
   "execution_count": 125,
   "id": "c246a429",
   "metadata": {
    "scrolled": false
   },
   "outputs": [],
   "source": [
    "@dataclass\n",
    "class photons:\n",
    "    xp : [float]   # horizontal angles (rad)\n",
    "    yp : [float]   # vertical angles (rad)\n",
    "    eV : [float]   # energies (eV)\n",
    "    ps : [float]   # polarization states (sigma=1, pi=-1, unpolarized=0)\n",
    "    def scatter(self, n, ebeam, laser, table, minP = 0): # top function to modify photon attibutes for n given random P(x)'s\n",
    "        Px = self.generate_Px(n, minP)   # inverted Monte Carlo probability distribution [Pmin..1]\n",
    "        self.eV = self.energy(ebeam, laser, Px)           # energy of scattered photon\n",
    "        self.ps = self.polarization(Px) if laser.ps != 0 else np.zeros(n)  # polarization state depends on P(x)\n",
    "        self.xp, self.yp = self.angles(ebeam, laser, Px, table)  # call polarization first because we read .ps attribute\n",
    "        return\n",
    "#   Below are methods called from scatter(), starting with the undulator photon energy distribution P(x)\n",
    "    def generate_Px(self, n, minP = 0):  # MC probability function for weak undulator, mapping energy of scattered photon\n",
    "        y = minP + np.random.random(n)*(1 - minP)\n",
    "        term = -2 + 4*y + np.sqrt(5 - 16*y + 16*y*y)\n",
    "        return (term**(2./3) -1 + term**(1./3))/2/term**(1./3)\n",
    "    def energy(self, ebeam, laser, Px):   # once we know P(x) we can easily scale from max energy\n",
    "        n = np.size(Px)\n",
    "        gamma2 = (ebeam.eMeV(n)/0.510998950)**2\n",
    "        maxE = 4*gamma2*laser.eV()/(1 + 4*gamma2*laser.eV()/(1.0e6*ebeam.eMeV(n)))\n",
    "#        maxE = 1.0e6*ebeam.eMeV(n)*(4*gamma2*laser.eV())/(1.0e6*ebeam.eMeV(n) + 4*gamma2*laser.eV())\n",
    "        return Px*maxE\n",
    "    def polarization(self, Px):          # first determine probability for s or p (assuming planar undulator)\n",
    "        Hofmann_Su = (1 - 2*Px + 2*Px*Px)        # spectral photon density from Hofmann for sum of sigma + pi\n",
    "        Hofmann_Su_s = (1/2 - Px + 3/2*Px*Px)    # spectral photon density from Hofmann for sigma only\n",
    "        ratio_s_u = Hofmann_Su_s/Hofmann_Su   # use ratio as threshold for determining which state\n",
    "        p = np.where(np.less(np.random.random(np.size(ratio_s_u)), ratio_s_u), 1, -1)\n",
    "        return p\n",
    "    def angles(self, ebeam, laser, Px, table):\n",
    "        n = np.size(Px)\n",
    "        gamma2 = (ebeam.eMeV(n)/0.510998950)**2\n",
    "        theta = np.sqrt((1-Px)/Px/gamma2)                # full angle theta known (although not phi yet)\n",
    "        phi = self.interpolatePhi(self.ps, Px, table)[1] # returns functional polarization dependent phi distribution\n",
    "#       phi = self.explicitPhi(self.ps, P)[1]            # this is not working, and may be slower than lookup table anyway\n",
    "        if laser.ps == 0: phi = phi + m.pi/2             # above is laser vertical polarization; rotate if horizontal\n",
    "        thetaX = theta*np.cos(phi) #+ ebeam.esigmaXp(0, n)  # manage uncorrelated stuff in a separate method!\n",
    "        thetaY = theta*np.sin(phi) #+ ebeam.esigmaYp(0, n)  # ...these act like a convolution to ICS distribution\n",
    "        return thetaX, thetaY\n",
    "    def explicitPhi(self, ps, Px): # generate CP function for specific P, then invert by interpolation? (does not work!)\n",
    "        n = np.size(Px)\n",
    "        x = np.random.random(n)\n",
    "        q = 50                                  # value large enough to interpolate when inverted, 100 is good\n",
    "        gts = (1-Px)/Px                           # (1-P)/P = (gamma*theta)**2 or'gts' for sigma distribution\n",
    "        phi = np.linspace(0,2*m.pi,q)\n",
    "        def sigmaPhi(x, phiD, gtsD):\n",
    "            phi = np.tile(phiD,[np.size(x),1])  # this turns the problem to 2D but interp still has a problem\n",
    "            gts = np.transpose(np.tile(gtsD,[np.size(phiD),1])) # as above\n",
    "            CP = (4*phi-4*gts*np.sin(2*phi)+gts*gts*np.cos(2*phi)*np.sin(2*phi)+2*gts*gts*phi)/(4*m.pi*(2+gts*gts))\n",
    "            return np.interp(x, CP, phi)\n",
    "        def piPhi(x, phi):\n",
    "            CP = (-np.cos(2*phi)*np.sin(2*phi)+2*phi)/(4*m.pi)  # normalized pi-mode integral from phi 0..2Pi\n",
    "            return np.interp(x, CP, phi)  # invert axes to sample CP function to return an actual value for phi\n",
    "        value = np.where(ps != 0, np.where(ps==1, sigmaPhi(x, phi, Px), piPhi(x, phi)), x*2*m.pi)\n",
    "        return x, value       # return both to check function; otherwise just need 'value' for actual phi\n",
    "    def interpolatePhi(self, ps, Px, table):  # generate lookup table first, then interpolate for specific P (works!)\n",
    "        x = np.random.random(np.size(Px))  # for sampling monte-carlo cumulative phi distribution (and invert to get phi)\n",
    "        def multiInterp(x, X, Y):   # try a vectorized explicit interpolation for inverting\n",
    "            dX = np.diff(X, axis=0)\n",
    "            dY = np.diff(Y, axis=0)\n",
    "            w = np.clip((x - X[:-1, :])/dX[:, :], 0, 1)\n",
    "            return np.sum(w*dY[:,None], axis=0)    \n",
    "        def sigmaPhi(x, Px, table):\n",
    "##            a = time.perf_counter()\n",
    "            pFracIndex = np.interp(Px, table[0], np.arange(np.size(table[0])))\n",
    "##            b = time.perf_counter()\n",
    "#            f_phi = [np.interp(pFracIndex, np.arange(np.size(table[0])), table[2][:,j]) for j in range(np.size(table[1]))]\n",
    "            my_interp = interp1d(np.arange(np.size(table[0])),table[2].T)  #'from scipy.interpolate import interp1d'\n",
    "            f_phi = my_interp(pFracIndex)   # does the above commented loop but in scipy as a function - faster\n",
    "##            c = time.perf_counter()\n",
    "#            ans = cyInverseInterp(x,f_phi,table[1])     # tried cython but no faster than vectorized python multiInterp()\n",
    "            ans = multiInterp(x,f_phi,table[1])          # use a vectorized interpolation, a bit faster than line below\n",
    "##           d = time.perf_counter()\n",
    "#            ans = [np.interp(x[j],f_phi[:,j],table[1]) for j in range(np.size(Px))]  # this works OK, probably a better way\n",
    "##            print(f'{b - a:0.5f} ; {c - b:0.5f} ; {d - c:0.5f}')\n",
    "            return ans \n",
    "        def piPhi(x, table):  # invert axes to sample CP function to return value for phi\n",
    "            return np.interp(x, table[3], table[1])\n",
    "        value = np.where(ps != 0, np.where(ps==1, sigmaPhi(x, Px, table), piPhi(x, table)), x*2*m.pi)\n",
    "        return x, value       # return both to check function; otherwise just need 'value' for actual phi\n",
    "    def generatePphiTable(self, p, n, Pfloor = 0.01):   # do this once and use interpolatePhi() to invert\n",
    "        samplesP = np.linspace(Pfloor, 1.0, p)\n",
    "        samplesPhi = np.linspace(0, 2*m.pi ,n)\n",
    "        CPps = np.empty([p,n]) # s polarization phi distribution is dependent on photon energy\n",
    "        CPp = np.empty([n])    # p polarization phi distribution is independent of photon energy\n",
    "        for x, P in np.ndenumerate(samplesP):\n",
    "            A = (1-P)/P\n",
    "            for y, phi in np.ndenumerate(samplesPhi):\n",
    "                CPps[x,y] = (4*phi-4*A*m.sin(2*phi)+A*A*m.cos(2*phi)*m.sin(2*phi)+2*A*A*phi)/4/m.pi/(2+A*A)\n",
    "        for y, phi in np.ndenumerate(samplesPhi):\n",
    "                CPp[y] = (-m.cos(2*phi)*m.sin(2*phi)+2*phi)/4/m.pi\n",
    "        return samplesP, samplesPhi, CPps, CPp\n",
    "#   Below are methods that modify our 'point source' ICS photon distribution\n",
    "#   We could make a copy of the base ICS distribution and change (non-energy aspects) of ebeam/laser/aperture\n",
    "    def add_ebeam_divergence(self, ebeam, xp_offset, yp_offset):  # set offsets to '0' to center beam to aperture\n",
    "        n = np.size(self.xp)\n",
    "        self.xp = self.xp + ebeam.esigmaXp(xp_offset, n)\n",
    "        self.yp = self.yp + ebeam.esigmaYp(yp_offset, n)\n",
    "        return\n",
    "    def add_luminous_spot_effects(self, ebeam, laser, aperture, x_offset=0, y_offset=0):\n",
    "        n = np.size(self.xp)\n",
    "        self.xp = self.xp + laser.lumsigmaX(ebeam, n, x_offset)/aperture.toIP # convert source position to angles at aperture\n",
    "        self.yp = self.yp + laser.lumsigmaY(ebeam, n, y_offset)/aperture.toIP\n",
    "        return"
   ]
  },
  {
   "cell_type": "code",
   "execution_count": 126,
   "id": "112eb963",
   "metadata": {
    "scrolled": false
   },
   "outputs": [
    {
     "name": "stdout",
     "output_type": "stream",
     "text": [
      "photons(xp=array([ 0.00333396, -0.00047101,  0.00050182,  0.00033715,  0.00047059,\n",
      "       -0.0129041 ,  0.00017528,  0.00178618,  0.00015403, -0.00105894]), yp=array([-4.77606530e-03, -2.53512960e-03, -2.61257820e-05,  2.32054234e-03,\n",
      "        1.04345063e-03, -7.57320683e-03, -1.39977742e-03, -2.10666002e-03,\n",
      "       -3.16737059e-03, -8.82111131e-04]), eV=array([120592.48310903, 411569.09704888, 947181.20775108, 456444.10636036,\n",
      "       778479.39466403,  20391.83342951, 700014.50102386, 377721.13031267,\n",
      "       316320.71560232, 710188.44693897]), ps=array([-1, -1,  1,  1,  1, -1,  1, -1,  1,  1]))\n"
     ]
    },
    {
     "data": {
      "image/png": "[encoded data removed]",
      "text/plain": [
       "<Figure size 432x288 with 1 Axes>"
      ]
     },
     "metadata": {
      "needs_background": "light"
     },
     "output_type": "display_data"
    }
   ],
   "source": [
    "#example photons input\n",
    "examplePhotons = photons([],[],[],[])  # empty to start, but we need an object to collect results\n",
    "exampleLookUp = examplePhotons.generatePphiTable(50, 100)  # set 2D size for interpolation table\n",
    "examplePhotons.scatter(10,examplebeam,exampleNdYAG,exampleLookUp)  # need input beams, like from previous examples\n",
    "print(examplePhotons)  # here is a set of n photon states,organized in 1D arrays, each of length n.\n",
    "# spot check interpolated inverse function for phi (e.g. ps=1, P=0.6)\n",
    "v = np.zeros([500,2])\n",
    "for x in range(0, 500):  # pick some number to randomly sample (with same Px) and then sort them to plot\n",
    "    value, phi = examplePhotons.interpolatePhi(1,[0.6],exampleLookUp)\n",
    "    v[x] = value[0], phi[0]\n",
    "v = np.sort(v,0)\n",
    "fig, ax = plt.subplots()\n",
    "ax.plot(v[:,0], v[:,1])\n",
    "ax.set(xlabel='MC', ylabel='phi',\n",
    "       title='inverted cumulative function')\n",
    "ax.grid()\n",
    "plt.show()"
   ]
  },
  {
   "cell_type": "markdown",
   "id": "7ac1d113",
   "metadata": {},
   "source": [
    "## class configuration: ##\n",
    "Here are some simple utilities to store configurations and recall them later."
   ]
  },
  {
   "cell_type": "code",
   "execution_count": 127,
   "id": "3af37abf",
   "metadata": {
    "scrolled": false
   },
   "outputs": [],
   "source": [
    "@dataclass\n",
    "class configuration:\n",
    "    currentPath: str = ''\n",
    "    def save(self,ebeam,laser,histogram,aperture):\n",
    "        root = tk.Tk()\n",
    "        root.attributes(\"-topmost\", True)\n",
    "        root.withdraw()\n",
    "        file_path = filedialog.asksaveasfilename(parent=root,title='Save an ICS config',defaultextension=\".icsc\")\n",
    "        self.currentPath = file_path\n",
    "        file = open(file_path, 'wb')\n",
    "        pickle.dump((ebeam,laser,histogram,aperture), file)\n",
    "        file.close()\n",
    "    def recall(self):\n",
    "        root = tk.Tk()\n",
    "        root.attributes(\"-topmost\", True)\n",
    "        root.withdraw()\n",
    "        file_path = filedialog.askopenfilename(parent=root,title='Choose a config',filetypes=[(\"ICS configs\", \"*.icsc\")])\n",
    "        self.currentPath = file_path\n",
    "        file = open(file_path, 'rb')\n",
    "        (ebeam,laser,histogram,aperture) = pickle.load(file)\n",
    "        file.close()\n",
    "        return ebeam, laser, histogram, aperture"
   ]
  },
  {
   "cell_type": "markdown",
   "id": "ad923181",
   "metadata": {},
   "source": [
    "## We are ready to set up a configuration and run a simulation! ##"
   ]
  },
  {
   "cell_type": "code",
   "execution_count": 160,
   "id": "c4f25291",
   "metadata": {
    "scrolled": false
   },
   "outputs": [
    {
     "name": "stdout",
     "output_type": "stream",
     "text": [
      "configuration(currentPath='')\n",
      "electron beam -> ebeam(meanMeV=750, sigmaErel=0.000676, emittanceX=1.53e-06, emittanceY=1.53e-06, betastarX=10.0, betastarY=10.0, useNormEmit=True)\n",
      "laser         -> laser(nm=532, ps=-1, zRayleighX=1.0, zRayleighY=1.0, zOffsetX=0, zOffsetY=0)\n",
      "detector      -> histogram(theta=7.5e-05, dtheta=1e-06, minE=19100000.0, maxE=19900000.0, dE=5000)\n",
      "window        -> aperture(toIP=10.0, dia=0.0005, thick=0.0127, angle=0, thin=0, material='Si')\n",
      "  ...new max 19712000 replaces 19900000 as histogram.maxE\n",
      "  ...new min 19121000 replaces 19100000 as histogram.minE\n",
      "new detector  -> histogram(theta=7.5e-05, dtheta=1e-06, minE=19121000.0, maxE=19712000.0, dE=5000)\n",
      "19712000.0\n",
      "minimum P [0..1] is 0.9563230000000001 for a sampled BW of 0.030000000000000027\n",
      "              -> (152, 152, 120, 3) = (x', y', E, p) bin sizes\n",
      "output area of window is 0.19 mm^2\n",
      "luminous spot sizes (1.744e-04, 1.744e-04)\n"
     ]
    }
   ],
   "source": [
    "# first define inputs we will use for the simulation\n",
    "myconfig = configuration()\n",
    "readconfig = False # save a config before trying to read one\n",
    "saveconfig = False  # set to True to save a present config\n",
    "if readconfig:\n",
    "    (beam, NdYAG, detector, window) = myconfig.recall()\n",
    "else:                # manually enter a configuration\n",
    "    beam = ebeam(750, 6.76E-4, 1.53e-6, 1.53e-6, 10.0, 10.0, True)\n",
    "    NdYAG = laser(532, -1, 1.0, 1.0)\n",
    "    detector = histogram(75e-6, 1e-6, 19.10e6, 19.90e6, 5000)\n",
    "    window = aperture(10.0,0.5e-3,12.7e-3,0,0)\n",
    "if saveconfig:\n",
    "    myconfig.save(beam,NdYAG,detector,window)\n",
    "print(myconfig)\n",
    "print('electron beam ->', beam)\n",
    "print('laser         ->', NdYAG)\n",
    "print('detector      ->', detector)\n",
    "print('window        ->', window)\n",
    "# adjust histogram energy range - comment out next three lines to skip\n",
    "detector.autoMaxE(beam,NdYAG,-3)\n",
    "detector.setBW(0.03)\n",
    "print('new detector  ->', detector)\n",
    "print(detector.estimateMaxE(beam, NdYAG, precision = -3))\n",
    "minP = detector.minP(beam,NdYAG)[0]\n",
    "BW = detector.minP(beam,NdYAG)[1]\n",
    "print('minimum P [0..1] is', minP, 'for a sampled BW of', BW)\n",
    "data = detector.createArray()\n",
    "print(f\"              -> {data.shape} = (x', y', E, p) bin sizes\")\n",
    "mask = window.createMask(detector)\n",
    "maskArea = window.properties(detector)[2]  # we can check output area of our aperture \n",
    "print(f'output area of window is {maskArea:0.2f} mm^2')\n",
    "print(f'luminous spot sizes ({NdYAG.luminous_sigmaX(examplebeam):0.3e}, {NdYAG.luminous_sigmaY(examplebeam):0.3e})')"
   ]
  },
  {
   "cell_type": "markdown",
   "id": "359b2c2e",
   "metadata": {},
   "source": [
    "Let's use a cython routine to make binning faster.  It definitely improves speed.  I set everything to 64bit, like my local windows compiler, and it works.  This function is called in the main scattering loop in the cell following the `%%cython` cell below.  The idea is to identify the 4D histogram bin **for each photon** after calculating specific values for a batch of photons.  (With this routine it now takes ~0.2s for 1M.)"
   ]
  },
  {
   "cell_type": "code",
   "execution_count": 161,
   "id": "e5c9edde",
   "metadata": {
    "scrolled": false
   },
   "outputs": [],
   "source": [
    "%%cython\n",
    "cimport numpy as np\n",
    "def cyBin(long long n, np.ndarray[np.int64_t, ndim=1] xp, np.ndarray[np.int64_t, ndim=1] yp, np.ndarray[np.int64_t, ndim=1] eV, np.ndarray[np.int64_t, ndim=1] ps, np.ndarray[np.int64_t, ndim=4] data):\n",
    "    for q in range (0, n):\n",
    "        data[xp[q],yp[q],eV[q],ps[q]] = data[xp[q],yp[q],eV[q],ps[q]] + 1\n",
    "    return data"
   ]
  },
  {
   "cell_type": "code",
   "execution_count": 162,
   "id": "5f155764",
   "metadata": {
    "scrolled": false
   },
   "outputs": [
    {
     "name": "stdout",
     "output_type": "stream",
     "text": [
      "OK, here we go...it may take a few seconds...\n",
      "run 1/10 6.048s: total events now 1.0e+06\n",
      "run 2/10 5.751s: total events now 2.0e+06\n",
      "run 3/10 5.785s: total events now 3.0e+06\n",
      "run 4/10 5.810s: total events now 4.0e+06\n",
      "run 5/10 5.668s: total events now 5.0e+06\n",
      "run 6/10 5.705s: total events now 6.0e+06\n",
      "run 7/10 5.767s: total events now 7.0e+06\n",
      "run 8/10 5.881s: total events now 8.0e+06\n",
      "run 9/10 5.681s: total events now 9.0e+06\n",
      "run 10/10 5.744s: total events now 1.0e+07\n",
      "The Monte Carlo part took 57.92 seconds\n",
      "TOTAL scattering events = 1.0e+07 in top BW of 3.0%\n",
      "ON detector count = 4962664 (p pol = 302 : s pol = 4962362 )\n",
      "lowE count = 2512619 ; highE count = 0\n",
      "onEoffX count = 1256099 ; onEoffY count = 1318988\n"
     ]
    }
   ],
   "source": [
    "# main routine to generate spatial and spectral distribution of ICS\n",
    "# note [data] will accumulate in multiple calls running this cell until previous cell is run again\n",
    "S = photons([],[],[],[]) # container for the state of a batch of photons [xp],[yp],[eV],[ps]\n",
    "lookUpTable = S.generatePphiTable(50, 100, 0.01)  # do this once for interpolation table\n",
    "batch = 1000000  # do batch of n at at time (e.g. 1e6)\n",
    "runs = 10 # loop this many times and bin data each time\n",
    "tic = time.perf_counter()  # measure start of batch calculation\n",
    "print('OK, here we go...it may take a few seconds...')\n",
    "for i in range(0, runs):  # do a batch at a time, bin results, and repeat. This is one way to accumulate data.\n",
    "    mtic = time.perf_counter()\n",
    "    S.scatter(batch,beam,NdYAG,lookUpTable,minP)     # generate scattered ICS photons as a 'point source'\n",
    "    S.add_ebeam_divergence(beam, 0.000, 0.000)       # make a copy and do only one loop if interested in changing later\n",
    "    S.add_luminous_spot_effects(beam, NdYAG, window) # make a copy and do only one loop if interested in changing later \n",
    "    # the following lines bin the photon state in to the histogram\n",
    "    xp = np.where(np.abs(S.xp) < detector.theta, np.searchsorted(detector.array_theta_bins(),S.xp)+1, 0)\n",
    "    yp = np.where(np.abs(S.yp) < detector.theta, np.searchsorted(detector.array_theta_bins(),S.yp)+1, 0)\n",
    "    eV = np.where(S.eV > detector.minE, np.searchsorted(detector.array_E_bins(),S.eV)+1, 0)\n",
    "    ps = np.searchsorted([-1,0,1],S.ps)\n",
    "    # then loop over every photon and assign it to a unique bin, which gets incremented by 1\n",
    "    data = cyBin(batch, xp, yp, eV, ps, data)  # do this in cython! 10x faster than two lines below\n",
    "#    for q in range (0,batch):\n",
    "#        data[xp[q],yp[q],eV[q],ps[q]] = data[xp[q],yp[q],eV[q],ps[q]] + 1\n",
    "    mtoc = time.perf_counter()\n",
    "    print(f\"run {i+1}/{runs} {mtoc - mtic:0.3f}s: total events now {np.sum(data):0.1e}\")\n",
    "toc = time.perf_counter()\n",
    "print(f'The Monte Carlo part took {toc - tic:0.2f} seconds')\n",
    "# The following examples count photons from the 4D histogram\n",
    "print(f'TOTAL scattering events = {np.sum(data):0.1e} in top BW of {BW*100:0.1f}%')\n",
    "ondetector_count = np.sum(data[1:-1,1:-1,1:-1,:])\n",
    "ondetect_p_count = np.sum(data[1:-1,1:-1,1:-1,0])\n",
    "ondetect_s_count = np.sum(data[1:-1,1:-1,1:-1,2])\n",
    "print('ON detector count =', ondetector_count,'(p pol =',ondetect_p_count,': s pol =',ondetect_s_count,')')\n",
    "lowE_count = np.sum(data[:,:,0,:])\n",
    "highE_count = np.sum(data[:,:,-1,:])\n",
    "print('lowE count =', lowE_count, '; highE count =', highE_count)\n",
    "onEoffX_count = np.sum(data[0,:,1:-1,:])+np.sum(data[-1,:,1:-1,:])\n",
    "onEoffY_count = np.sum(data[:,0,1:-1,:])+np.sum(data[:,-1,1:-1,:])\n",
    "print('onEoffX count =', onEoffX_count, '; onEoffY count =', onEoffY_count)"
   ]
  },
  {
   "cell_type": "markdown",
   "id": "6523916a",
   "metadata": {},
   "source": [
    "## class display: ##\n",
    "Now that we have a data in a 4D histogram, let's **display** results.  This class is a place to stash these methods.  Most of these routines are self explanatory.  Generally we want to project (sum) along different axes of interest. Then we view either spatial distributions or spectral distributions."
   ]
  },
  {
   "cell_type": "code",
   "execution_count": 163,
   "id": "12033a5e",
   "metadata": {
    "scrolled": false
   },
   "outputs": [],
   "source": [
    "@dataclass\n",
    "class display:\n",
    "    colors: ListedColormap\n",
    "    range: [float]\n",
    "    def apply_my_preferred_colormap(self):\n",
    "        colordata = np.loadtxt(\"false_color_256bit_RGB_values.txt\", delimiter=\"\\t\")\n",
    "        ones_col =  np.array([np.ones(256)])\n",
    "        myvals = np.append(colordata/255, ones_col.T, axis = 1)\n",
    "        self.colors = ListedColormap(myvals)\n",
    "        return\n",
    "    def set_full_view(self,histogram):\n",
    "        self.range = [-histogram.theta, histogram.theta, -histogram.theta, histogram.theta]\n",
    "        return\n",
    "    def viewIntensity(self,data4D,histogram,aperture):\n",
    "        intensity = np.sum(data4D, axis=(2,3))*aperture.createMask(histogram)\n",
    "        plt.imshow(intensity[1:-1,1:-1].T, extent=self.range, cmap=self.colors)  # we plot'angle space' xp,yp\n",
    "        plt.colorbar()\n",
    "        plt.title(f'{int(np.sum(intensity[:,:]))} photons')\n",
    "#       plt.title(f'{int(np.sum(intensity[1:-1,1:-1]))} photons') gives incorrect sum (?)\n",
    "        return\n",
    "    def full_aperture_spectrum(self, data4D, histogram, aperture):\n",
    "        mask2D = aperture.createMask(histogram)\n",
    "        mask3D = np.repeat(mask2D[...,None], 1, axis=2)\n",
    "        mask4D = np.repeat(mask3D[...,None], 1, axis=3)\n",
    "        fullspectrum = np.sum(data4D*mask4D, axis=(0,1,3))\n",
    "        return fullspectrum\n",
    "    def sampled_spectrum(self, xp, yp, size, data4D, histogram):  \n",
    "        x = np.searchsorted(histogram.array_theta_bins(),xp)+1\n",
    "        y = np.searchsorted(histogram.array_theta_bins(),yp)+1\n",
    "        print(f'spectrum at {xp,yp} rad in a box {(2*size+1)*histogram.dtheta*1e3:0.2f} mrad per side')\n",
    "        spectrum = np.sum(data4D[x-size:x+size+1, y-size:y+size+1], axis=(0,1,3))\n",
    "        return spectrum\n",
    "    def apply_attenuation(self, spectrum, histogram, aperture):   # do this after we have a summed spectrum\n",
    "        new_spectrum = spectrum*aperture.transmission(histogram)\n",
    "        print(f'overall transmission through thin window = {np.sum(new_spectrum[1:-1])/np.sum(spectrum[1:-1]):0.3f}')\n",
    "        return new_spectrum\n",
    "    def plotSpectrum(self, spectrum, histogram):  # display a few analysis calcs here too (peak, BW)\n",
    "        peak_eV, rel_width = self.FWHM(spectrum, histogram)\n",
    "        fig, ax = plt.subplots()\n",
    "        ax.plot(histogram.array_E_bins(), spectrum[1:-1])\n",
    "        useful_title = f'peak = {peak_eV/1000:0.2f} keV, rel_FWHM = {rel_width*100:0.2f}%'\n",
    "        ax.set(xlabel='energy (eV)',ylabel = 'counts', title = useful_title)\n",
    "        plt.show() \n",
    "        return\n",
    "    def FWHM(self, spectrum, histogram, peakwidth=4): # check size to remove oob spectrum to match E_bins\n",
    "        sized_spectrum = spectrum if spectrum.size==histogram.array_E_bins().size else spectrum[1:-1]\n",
    "        peak = find_peaks(sized_spectrum, height=np.max(sized_spectrum)*0.9, width=peakwidth)[0]\n",
    "        peak_eV = histogram.array_E_bins()[peak]\n",
    "        width = peak_widths(sized_spectrum, peak, rel_height=0.5)[0]\n",
    "        width_eV = width*histogram.dE\n",
    "        return peak_eV[0], width_eV[0]/peak_eV[0]"
   ]
  },
  {
   "cell_type": "markdown",
   "id": "d2cc14d7",
   "metadata": {},
   "source": [
    "## Following examples show various ways how to look at the data ##"
   ]
  },
  {
   "cell_type": "code",
   "execution_count": 164,
   "id": "cbdf02fd",
   "metadata": {
    "scrolled": false
   },
   "outputs": [
    {
     "name": "stdout",
     "output_type": "stream",
     "text": [
      "overall transmission through thin window = 1.000\n"
     ]
    },
    {
     "data": {
      "image/png": "[encoded data removed]",
      "text/plain": [
       "<Figure size 432x288 with 2 Axes>"
      ]
     },
     "metadata": {
      "needs_background": "light"
     },
     "output_type": "display_data"
    },
    {
     "data": {
      "image/png": "[encoded data removed]",
      "text/plain": [
       "<Figure size 432x288 with 1 Axes>"
      ]
     },
     "metadata": {
      "needs_background": "light"
     },
     "output_type": "display_data"
    },
    {
     "name": "stdout",
     "output_type": "stream",
     "text": [
      "spectrum sum 460702.0 should match one in intensity plot (no attenuation)\n",
      "spectrum sum 460702.0 is after window transmission and plotted above\n",
      "relative flux through aperture (from *total* luminosity, BW = 1): 2.012e-03\n"
     ]
    }
   ],
   "source": [
    "# set up plots\n",
    "myview = display(ListedColormap,[])\n",
    "myview.apply_my_preferred_colormap()  # I like this lasercam false color display and use it everywhere\n",
    "myview.set_full_view(detector)\n",
    "# intensity plot\n",
    "myview.viewIntensity(data,detector,window)\n",
    "# get the overall spectrum of beam that makes it through aperture\n",
    "fullspectrum = myview.full_aperture_spectrum(data,detector,window)\n",
    "spectrum = myview.apply_attenuation(fullspectrum, detector, window)\n",
    "myview.plotSpectrum(spectrum, detector)\n",
    "print(f'spectrum sum {np.sum(fullspectrum)} should match one in intensity plot (no attenuation)') \n",
    "print(f'spectrum sum {np.sum(spectrum)} is after window transmission and plotted above')\n",
    "# if we want to scale a luminosity formula, we can calculate the fraction of \"full bandwidth\" scattering\n",
    "# this fraction compensates sampled BW if it is high enough not to cut-off energies that should be in the histogram\n",
    "rel_flux_in_aperture = np.sum(spectrum)/np.sum(data)*(1-minP)  # minP defined earlier = detector.minP(beam,NdYAG)[0]\n",
    "print(f'relative flux through aperture (from *total* luminosity, BW = 1): {rel_flux_in_aperture:0.3e}')\n",
    "#savearray = np.column_stack((detector.array_E_bins(), spectrum[1:-1]))\n",
    "#np.savetxt(\"spectrum.txt\",savearray,delimiter=\"\\t\")"
   ]
  },
  {
   "cell_type": "code",
   "execution_count": 165,
   "id": "801d178d",
   "metadata": {
    "scrolled": false
   },
   "outputs": [
    {
     "name": "stdout",
     "output_type": "stream",
     "text": [
      "spectrum at (0.0, 0.001) rad in a box 0.01 mrad per side\n"
     ]
    },
    {
     "data": {
      "image/png": "[encoded data removed]",
      "text/plain": [
       "<Figure size 432x288 with 1 Axes>"
      ]
     },
     "metadata": {
      "needs_background": "light"
     },
     "output_type": "display_data"
    }
   ],
   "source": [
    "# we could zoom in to a particular spot to see local spectrum\n",
    "spotspectrum = myview.sampled_spectrum(0.000,0.001,3,data,detector) # give coordinates xp, yp, and bin size b (2n+1 x 2n+1)\n",
    "myview.plotSpectrum(spotspectrum, detector)"
   ]
  },
  {
   "cell_type": "code",
   "execution_count": 166,
   "id": "5e488935",
   "metadata": {
    "scrolled": false
   },
   "outputs": [
    {
     "name": "stdout",
     "output_type": "stream",
     "text": [
      "0.1 mrad is 50 bins\n",
      "spectrum at (0.0, 0.0) rad in a box 0.10 mrad per side\n",
      "total number of photons = 2390828\n"
     ]
    },
    {
     "data": {
      "image/png": "[encoded data removed]",
      "text/plain": [
       "<Figure size 432x288 with 1 Axes>"
      ]
     },
     "metadata": {
      "needs_background": "light"
     },
     "output_type": "display_data"
    }
   ],
   "source": [
    "# quick estimate to see a central spectrum over a smaller aperture (say 0.1 mrad) **square**\n",
    "b = int(1e-4/detector.dtheta/2)\n",
    "print(f'0.1 mrad is {b} bins')\n",
    "spotspectrum = myview.sampled_spectrum(0.000,0.000,b,data,detector) # give coordinates xp, yp, and bin size b (2n+1 x 2n+1)\n",
    "print(f'total number of photons = {np.sum(spotspectrum)}')\n",
    "myview.plotSpectrum(spotspectrum, detector)"
   ]
  },
  {
   "cell_type": "code",
   "execution_count": 167,
   "id": "ee8ff3f0",
   "metadata": {
    "scrolled": false
   },
   "outputs": [
    {
     "name": "stdout",
     "output_type": "stream",
     "text": [
      "window        -> aperture(toIP=10.0, dia=0.001, thick=0, angle=0, thin=0, material='Si')\n",
      "overall transmission through thin window = 1.000\n"
     ]
    },
    {
     "data": {
      "image/png": "[encoded data removed]",
      "text/plain": [
       "<Figure size 432x288 with 2 Axes>"
      ]
     },
     "metadata": {
      "needs_background": "light"
     },
     "output_type": "display_data"
    },
    {
     "data": {
      "image/png": "[encoded data removed]",
      "text/plain": [
       "<Figure size 432x288 with 1 Axes>"
      ]
     },
     "metadata": {
      "needs_background": "light"
     },
     "output_type": "display_data"
    }
   ],
   "source": [
    "# another way to see central spectrum over a smaller aperture (say 4 mrad **round**) is create a new aperture!\n",
    "alternate_window = aperture(10.0,1.0e-3,0,0,0)  # use simple geometry to set angle (i.e. IP at 1m)\n",
    "print('window        ->', alternate_window)\n",
    "# plot intensity and new 'full' spectrum\n",
    "myview.viewIntensity(data,detector,alternate_window)\n",
    "new_fullspectrum = myview.full_aperture_spectrum(data,detector,alternate_window)\n",
    "new_spectrum = myview.apply_attenuation(new_fullspectrum, detector, window) # if you want to keep old window transmission\n",
    "myview.plotSpectrum(new_fullspectrum, detector)"
   ]
  },
  {
   "cell_type": "code",
   "execution_count": null,
   "id": "9e8b4089",
   "metadata": {
    "scrolled": false
   },
   "outputs": [],
   "source": []
  },
  {
   "cell_type": "code",
   "execution_count": null,
   "id": "b81d0a5e",
   "metadata": {
    "scrolled": false
   },
   "outputs": [],
   "source": []
  }
 ],
 "metadata": {
  "kernelspec": {
   "display_name": "Python 3",
   "language": "python",
   "name": "python3"
  },
  "language_info": {
   "codemirror_mode": {
    "name": "ipython",
    "version": 3
   },
   "file_extension": ".py",
   "mimetype": "text/x-python",
   "name": "python",
   "nbconvert_exporter": "python",
   "pygments_lexer": "ipython3",
   "version": "3.8.8"
  }
 },
 "nbformat": 4,
 "nbformat_minor": 5
}
